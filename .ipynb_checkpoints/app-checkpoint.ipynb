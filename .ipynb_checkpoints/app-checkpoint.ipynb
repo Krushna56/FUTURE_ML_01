{
 "cells": [
  {
   "cell_type": "code",
   "execution_count": null,
   "id": "7d9f6e2e-33f1-4c61-9831-93cbc50af5d6",
   "metadata": {
    "vscode": {
     "languageId": "python"
    }
   },
   "outputs": [],
   "source": [
    "df = pd.read_csv('sales_data_sample.csv')"
   ]
  }
 ],
 "metadata": {
  "kernelspec": {
   "display_name": "",
   "name": ""
  },
  "language_info": {
   "name": ""
  }
 },
 "nbformat": 4,
 "nbformat_minor": 5
}
